{
 "cells": [
  {
   "cell_type": "markdown",
   "id": "8a568cb1",
   "metadata": {},
   "source": [
    "# python ka chilla with baba Aammar\n",
    "## How to use Jupyter Notebook\n",
    "### basics of python\n",
    "### **01- My First program**"
   ]
  },
  {
   "cell_type": "code",
   "execution_count": 4,
   "id": "d054f86f",
   "metadata": {},
   "outputs": [
    {
     "name": "stdout",
     "output_type": "stream",
     "text": [
      "5\n",
      "Hello Word\n",
      "We are Learning pyhton with Ammar\n"
     ]
    }
   ],
   "source": [
    "print(2+3)  \n",
    "print(\"Hello Word\")\n",
    "print(\"We are Learning pyhton with Ammar\")        "
   ]
  },
  {
   "cell_type": "markdown",
   "id": "f1ce5efe",
   "metadata": {},
   "source": [
    "### **02-operators**"
   ]
  },
  {
   "cell_type": "code",
   "execution_count": 5,
   "id": "7ea34c39",
   "metadata": {},
   "outputs": [
    {
     "name": "stdout",
     "output_type": "stream",
     "text": [
      "3\n",
      "1\n",
      "3.0\n",
      "1\n",
      "3\n",
      "8\n",
      "6.5\n"
     ]
    }
   ],
   "source": [
    "print(2+1)\n",
    "print(3-2)\n",
    "print(6/2)\n",
    "print(13%2)\n",
    "print(6//2)\n",
    "print(2**3)\n",
    "\n",
    "print(3**2/2*3/3+6-4)"
   ]
  },
  {
   "cell_type": "markdown",
   "id": "66fdf7ac",
   "metadata": {},
   "source": [
    "*PEMDAS*\n",
    "*Paranthesis Exponents Multiply Divide Addition Subtraction*\n",
    "*Left to right for M D & A S*"
   ]
  },
  {
   "cell_type": "markdown",
   "id": "1757f5ae",
   "metadata": {},
   "source": [
    "### **03-strings**"
   ]
  },
  {
   "cell_type": "code",
   "execution_count": 6,
   "id": "c66bc5cc",
   "metadata": {},
   "outputs": [
    {
     "name": "stdout",
     "output_type": "stream",
     "text": [
      "Hello Word\n",
      "We are Learning pyhton with Ammar\n",
      "Test for single quotes\n",
      "Test for Double quotes\n",
      "Test for Triple quotes\n",
      "   What's up   \n"
     ]
    }
   ],
   "source": [
    "print(\"Hello Word\")\n",
    "print(\"We are Learning pyhton with Ammar\")\n",
    "print('Test for single quotes')\n",
    "print(\"Test for Double quotes\")\n",
    "print('''Test for Triple quotes''' )\n",
    "\n",
    "print(\"   What's up   \")"
   ]
  },
  {
   "cell_type": "markdown",
   "id": "ef6997e1",
   "metadata": {},
   "source": [
    "### **04-Comments in python**\n",
    "The shortcut key to comments is **ctrl+/**"
   ]
  },
  {
   "cell_type": "code",
   "execution_count": 7,
   "id": "bf8a335e",
   "metadata": {},
   "outputs": [
    {
     "name": "stdout",
     "output_type": "stream",
     "text": [
      "How are you\n",
      "we are learning python with ammar\n",
      "8\n"
     ]
    }
   ],
   "source": [
    "print(\"How are you\") # prss ctrl+/ to comment out\n",
    "print(\"we are learning python with ammar\") #print a string\n",
    "print(2+6) #print operator function with numbers"
   ]
  }
 ],
 "metadata": {
  "kernelspec": {
   "display_name": "Python 3 (ipykernel)",
   "language": "python",
   "name": "python3"
  },
  "language_info": {
   "codemirror_mode": {
    "name": "ipython",
    "version": 3
   },
   "file_extension": ".py",
   "mimetype": "text/x-python",
   "name": "python",
   "nbconvert_exporter": "python",
   "pygments_lexer": "ipython3",
   "version": "3.9.7"
  }
 },
 "nbformat": 4,
 "nbformat_minor": 5
}
